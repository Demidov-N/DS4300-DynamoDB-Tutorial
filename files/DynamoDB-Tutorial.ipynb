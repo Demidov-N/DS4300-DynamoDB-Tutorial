{
 "cells": [
  {
   "cell_type": "markdown",
   "metadata": {},
   "source": [
    "# How to Use the Notebook:\n",
    "\n",
    "- Make sure you download it on your computer\n",
    "- Set up the AWS credentials\n",
    "- Your are in `us-east-2`\n",
    "- Create a table `FlightBooking`. Make Sure that\n",
    "  - Partition Key is `CustomerEmail`\n",
    "  - Sorting Key is `BookingId`"
   ]
  },
  {
   "cell_type": "code",
   "execution_count": 3,
   "metadata": {},
   "outputs": [],
   "source": [
    "import boto3\n",
    "\n",
    "# DynamoDB table name\n",
    "TABLE_NAME = 'FlightBooking2' \n",
    "\n",
    "# Initialize a DynamoDB session\n",
    "dynamodb = boto3.resource('dynamodb', region_name='us-east-2')\n",
    "table = dynamodb.Table(TABLE_NAME)\n"
   ]
  },
  {
   "cell_type": "code",
   "execution_count": 5,
   "metadata": {},
   "outputs": [
    {
     "name": "stdout",
     "output_type": "stream",
     "text": [
      "Data insertion complete.\n"
     ]
    }
   ],
   "source": [
    "\n",
    "# Data to be inserted\n",
    "data = [\n",
    "    {\"CustomerEmail\": \"john.doe@example.com\", \"BookingId\": \"BK1001\", \"FlightNumber\": \"FL1234\", \"Price\": 450, \"PassengerDetails\": {\"Name\": \"John Doe\", \"Age\": 29, \"Seat\": \"12A\"}},\n",
    "    {\"CustomerEmail\": \"jane.smith@example.com\", \"BookingId\": \"BK1002\", \"FlightNumber\": \"FL1235\", \"Price\": 550, \"PassengerDetails\": {\"Name\": \"Jane Smith\", \"Age\": 34, \"Seat\": \"14C\"}},\n",
    "    {\"CustomerEmail\": \"mike.jones@example.com\", \"BookingId\": \"BK1003\", \"FlightNumber\": \"FL1236\", \"Price\": 375, \"PassengerDetails\": {\"Name\": \"Mike Jones\", \"Age\": 41, \"Seat\": \"10D\"}},\n",
    "    {\"CustomerEmail\": \"sarah.connor@example.com\", \"BookingId\": \"BK1004\", \"FlightNumber\": \"FL1237\", \"Price\": 600, \"PassengerDetails\": {\"Name\": \"Sarah Connor\", \"Age\": 36, \"Seat\": \"16F\"}},\n",
    "    {\"CustomerEmail\": \"alex.murphy@example.com\", \"BookingId\": \"BK1005\", \"FlightNumber\": \"FL1238\", \"Price\": 410, \"PassengerDetails\": {\"Name\": \"Alex Murphy\", \"Age\": 30, \"Seat\": \"12B\"}},\n",
    "    {\"CustomerEmail\": \"lisa.white@example.com\", \"BookingId\": \"BK1006\", \"FlightNumber\": \"FL1239\", \"Price\": 480, \"PassengerDetails\": {\"Name\": \"Lisa White\", \"Age\": 28, \"Seat\": \"15A\"}},\n",
    "    {\"CustomerEmail\": \"tom.hanks@example.com\", \"BookingId\": \"BK1007\", \"FlightNumber\": \"FL1240\", \"Price\": 520, \"PassengerDetails\": {\"Name\": \"Tom Hanks\", \"Age\": 45, \"Seat\": \"11C\"}},\n",
    "    {\"CustomerEmail\": \"emma.watson@example.com\", \"BookingId\": \"BK1008\", \"FlightNumber\": \"FL1241\", \"Price\": 450, \"PassengerDetails\": {\"Name\": \"Emma Watson\", \"Age\": 31, \"Seat\": \"14B\"}},\n",
    "    {\"CustomerEmail\": \"chris.evans@example.com\", \"BookingId\": \"BK1009\", \"FlightNumber\": \"FL1242\", \"Price\": 470, \"PassengerDetails\": {\"Name\": \"Chris Evans\", \"Age\": 37, \"Seat\": \"13A\"}},\n",
    "    {\"CustomerEmail\": \"natalie.portman@example.com\", \"BookingId\": \"BK1010\", \"FlightNumber\": \"FL1243\", \"Price\": 505, \"PassengerDetails\": {\"Name\": \"Natalie Portman\", \"Age\": 39, \"Seat\": \"17E\"}},\n",
    "    {\"CustomerEmail\": \"natalie.portman@example.com\", \"BookingId\": \"BK1011\", \"FlightNumber\": \"FL1243\", \"Price\": 505, \"PassengerDetails\": {\"Name\": \"Natalie Portman\", \"Age\": 39, \"Seat\": \"17E\"}},\n",
    "    {\"CustomerEmail\": \"john.doe@example.com\", \"BookingId\": \"BK1011\", \"FlightNumber\": \"FL1244\", \"Price\": 460, \"PassengerDetails\": {\"Name\": \"John Doe\", \"Age\": 30, \"Seat\": \"18B\"}},\n",
    "    {\"CustomerEmail\": \"john.doe@example.com\", \"BookingId\": \"BK1012\", \"FlightNumber\": \"FL1245\", \"Price\": 500, \"PassengerDetails\": {\"Name\": \"John Doe\", \"Age\": 29, \"Seat\": \"19C\"}}\n",
    "\n",
    "]\n",
    "\n",
    "# Function to batch write items\n",
    "def batch_write(table, items):\n",
    "    with table.batch_writer() as batch:\n",
    "        for item in items:\n",
    "            batch.put_item(Item=item)\n",
    "\n",
    "# Insert the items\n",
    "batch_write(table, data)\n",
    "\n",
    "print(\"Data insertion complete.\")"
   ]
  },
  {
   "cell_type": "markdown",
   "metadata": {},
   "source": [
    "# Basic Operations"
   ]
  },
  {
   "cell_type": "code",
   "execution_count": 6,
   "metadata": {},
   "outputs": [],
   "source": [
    "# Put an Item\n",
    "\n",
    "item = {\n",
    "    \"CustomerEmail\": \"jane.doe@example.com\",\n",
    "    \"BookingId\": \"BK2002\",\n",
    "    \"FlightNumber\": \"FL1254\",\n",
    "    \"Price\": 500,\n",
    "    \"PassengerDetails\": {\n",
    "        \"Name\": \"Jane Doe\",\n",
    "        \"Age\": 32,\n",
    "        \"Seat\": \"15B\"\n",
    "    }\n",
    "}\n",
    "\n",
    "# Insert the item\n",
    "response = table.put_item(Item=item)"
   ]
  },
  {
   "cell_type": "code",
   "execution_count": 8,
   "metadata": {},
   "outputs": [
    {
     "name": "stdout",
     "output_type": "stream",
     "text": [
      "{'BookingId': 'BK2002',\n",
      " 'CustomerEmail': 'jane.doe@example.com',\n",
      " 'FlightNumber': 'FL1254',\n",
      " 'PassengerDetails': {'Age': Decimal('32'), 'Name': 'Jane Doe', 'Seat': '15B'},\n",
      " 'Price': Decimal('500')}\n"
     ]
    }
   ],
   "source": [
    "# get an Item\n",
    "\n",
    "from pprint import pprint # just print json better\n",
    "key = {\n",
    "    \"CustomerEmail\": \"jane.doe@example.com\",\n",
    "    \"BookingId\": \"BK2002\"\n",
    "}\n",
    "\n",
    "# Retrieve the item\n",
    "response = table.get_item(Key=key)\n",
    "\n",
    "pprint(response['Item'])"
   ]
  },
  {
   "cell_type": "code",
   "execution_count": 9,
   "metadata": {},
   "outputs": [
    {
     "name": "stdout",
     "output_type": "stream",
     "text": [
      "{'BookingId': 'BK2002',\n",
      " 'CustomerEmail': 'jane.doe@example.com',\n",
      " 'FlightNumber': 'FL1260',\n",
      " 'PassengerDetails': {'Age': Decimal('32'), 'Name': 'Jane Doe', 'Seat': '15B'},\n",
      " 'Price': Decimal('550')}\n"
     ]
    }
   ],
   "source": [
    "# Define the primary key of the item to be updated\n",
    "key = {\n",
    "    \"CustomerEmail\": \"jane.doe@example.com\",\n",
    "    \"BookingId\": \"BK2002\"\n",
    "}\n",
    "\n",
    "# Update the item\n",
    "response = table.update_item(\n",
    "    Key=key,\n",
    "    UpdateExpression=\"SET FlightNumber = :fn, Price = :pr\",\n",
    "    ExpressionAttributeValues={\n",
    "        \":fn\": \"FL1260\",\n",
    "        \":pr\": 550\n",
    "    },\n",
    "    ReturnValues=\"UPDATED_NEW\"\n",
    ")\n",
    "\n",
    "# get it again to see the changes, notice change in FlightNumber and Price value changed\n",
    "response = table.get_item(Key=key)\n",
    "pprint(response['Item'])"
   ]
  },
  {
   "cell_type": "code",
   "execution_count": 16,
   "metadata": {},
   "outputs": [
    {
     "name": "stdout",
     "output_type": "stream",
     "text": [
      "[{'BookingId': 'BK1001',\n",
      "  'CustomerEmail': 'john.doe@example.com',\n",
      "  'FlightNumber': 'FL1234',\n",
      "  'PassengerDetails': {'Age': Decimal('29'), 'Name': 'John Doe', 'Seat': '12A'},\n",
      "  'Price': Decimal('450')},\n",
      " {'BookingId': 'BK1011',\n",
      "  'CustomerEmail': 'john.doe@example.com',\n",
      "  'FlightNumber': 'FL1244',\n",
      "  'PassengerDetails': {'Age': Decimal('30'), 'Name': 'John Doe', 'Seat': '18B'},\n",
      "  'Price': Decimal('460')},\n",
      " {'BookingId': 'BK1012',\n",
      "  'CustomerEmail': 'john.doe@example.com',\n",
      "  'FlightNumber': 'FL1245',\n",
      "  'PassengerDetails': {'Age': Decimal('29'), 'Name': 'John Doe', 'Seat': '19C'},\n",
      "  'Price': Decimal('500')}]\n"
     ]
    }
   ],
   "source": [
    "# Querying\n",
    "\n",
    "import boto3\n",
    "\n",
    "# Define the query parameters \n",
    "query_params = {\n",
    "    'KeyConditionExpression': \"CustomerEmail = :email\",\n",
    "    'ExpressionAttributeValues': {\n",
    "        ':email': 'john.doe@example.com'\n",
    "    }\n",
    "}\n",
    "\n",
    "# Perform the query\n",
    "response = table.query(**query_params)\n",
    "\n",
    "# Print the items returned by the query\n",
    "pprint(response['Items'])\n"
   ]
  },
  {
   "cell_type": "code",
   "execution_count": null,
   "metadata": {},
   "outputs": [],
   "source": []
  }
 ],
 "metadata": {
  "kernelspec": {
   "display_name": "ds-kernel",
   "language": "python",
   "name": "ds-kernel"
  },
  "language_info": {
   "codemirror_mode": {
    "name": "ipython",
    "version": 3
   },
   "file_extension": ".py",
   "mimetype": "text/x-python",
   "name": "python",
   "nbconvert_exporter": "python",
   "pygments_lexer": "ipython3",
   "version": "3.11.7"
  }
 },
 "nbformat": 4,
 "nbformat_minor": 2
}
